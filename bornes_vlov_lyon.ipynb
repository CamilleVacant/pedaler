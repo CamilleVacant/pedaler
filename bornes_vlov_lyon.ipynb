{
 "cells": [
  {
   "cell_type": "markdown",
   "metadata": {},
   "source": [
    "### Imports"
   ]
  },
  {
   "cell_type": "code",
   "execution_count": 171,
   "metadata": {},
   "outputs": [],
   "source": [
    "import pandas as pd\n",
    "import json\n",
    "import seaborn as sns\n",
    "import matplotlib.pyplot as plt"
   ]
  },
  {
   "cell_type": "markdown",
   "metadata": {},
   "source": [
    "### Chargement du dataset"
   ]
  },
  {
   "cell_type": "code",
   "execution_count": 172,
   "metadata": {},
   "outputs": [],
   "source": [
    "with open('input/metropole-de-lyon_jcd_jcdecaux.jcdvelov.json') as f:\n",
    "    data = json.load(f)"
   ]
  },
  {
   "cell_type": "code",
   "execution_count": 173,
   "metadata": {},
   "outputs": [
    {
     "data": {
      "text/plain": [
       "dict_keys(['type', 'features', 'totalFeatures', 'numberMatched', 'numberReturned', 'timeStamp', 'crs', 'bbox'])"
      ]
     },
     "execution_count": 173,
     "metadata": {},
     "output_type": "execute_result"
    }
   ],
   "source": [
    "data.keys()"
   ]
  },
  {
   "cell_type": "markdown",
   "metadata": {},
   "source": [
    "Seules les données dans features nous intéressent."
   ]
  },
  {
   "cell_type": "code",
   "execution_count": 174,
   "metadata": {},
   "outputs": [
    {
     "data": {
      "text/html": [
       "<div>\n",
       "<style scoped>\n",
       "    .dataframe tbody tr th:only-of-type {\n",
       "        vertical-align: middle;\n",
       "    }\n",
       "\n",
       "    .dataframe tbody tr th {\n",
       "        vertical-align: top;\n",
       "    }\n",
       "\n",
       "    .dataframe thead th {\n",
       "        text-align: right;\n",
       "    }\n",
       "</style>\n",
       "<table border=\"1\" class=\"dataframe\">\n",
       "  <thead>\n",
       "    <tr style=\"text-align: right;\">\n",
       "      <th></th>\n",
       "      <th>number</th>\n",
       "      <th>name</th>\n",
       "      <th>address</th>\n",
       "      <th>address2</th>\n",
       "      <th>address_jcd</th>\n",
       "      <th>commune</th>\n",
       "      <th>nmarrond</th>\n",
       "      <th>bonus</th>\n",
       "      <th>pole</th>\n",
       "      <th>bike_stands</th>\n",
       "      <th>...</th>\n",
       "      <th>main_stands.availabilities.mechanicalBikes</th>\n",
       "      <th>main_stands.availabilities.electricalInternalBatteryBikes</th>\n",
       "      <th>main_stands.availabilities.electricalRemovableBatteryBikes</th>\n",
       "      <th>overflow_stands.capacity</th>\n",
       "      <th>overflow_stands.availabilities.bikes</th>\n",
       "      <th>overflow_stands.availabilities.stands</th>\n",
       "      <th>overflow_stands.availabilities.electricalBikes</th>\n",
       "      <th>overflow_stands.availabilities.mechanicalBikes</th>\n",
       "      <th>overflow_stands.availabilities.electricalInternalBatteryBikes</th>\n",
       "      <th>overflow_stands.availabilities.electricalRemovableBatteryBikes</th>\n",
       "    </tr>\n",
       "  </thead>\n",
       "  <tbody>\n",
       "    <tr>\n",
       "      <th>0</th>\n",
       "      <td>2010</td>\n",
       "      <td>2010 - CONFLUENCE / DARSE</td>\n",
       "      <td>Allée Andrée Mure</td>\n",
       "      <td>Angle Quai Antoine Riboud</td>\n",
       "      <td>ANGLE ALLEE ANDRE MURE ET QUAI ANTOINE RIBOUD</td>\n",
       "      <td>Lyon 2e Arrondissement</td>\n",
       "      <td>10.0</td>\n",
       "      <td>False</td>\n",
       "      <td>Pôle de Loisirs Confluence</td>\n",
       "      <td>22</td>\n",
       "      <td>...</td>\n",
       "      <td>3</td>\n",
       "      <td>0</td>\n",
       "      <td>5</td>\n",
       "      <td>NaN</td>\n",
       "      <td>NaN</td>\n",
       "      <td>NaN</td>\n",
       "      <td>NaN</td>\n",
       "      <td>NaN</td>\n",
       "      <td>NaN</td>\n",
       "      <td>NaN</td>\n",
       "    </tr>\n",
       "    <tr>\n",
       "      <th>1</th>\n",
       "      <td>5015</td>\n",
       "      <td>5015 - FULCHIRON</td>\n",
       "      <td>41, Quai Fulchiron</td>\n",
       "      <td>NaN</td>\n",
       "      <td>Devant le n°41 rue de la Quarantaine</td>\n",
       "      <td>Lyon 5e Arrondissement</td>\n",
       "      <td>15.0</td>\n",
       "      <td>False</td>\n",
       "      <td>Maillage</td>\n",
       "      <td>19</td>\n",
       "      <td>...</td>\n",
       "      <td>5</td>\n",
       "      <td>0</td>\n",
       "      <td>11</td>\n",
       "      <td>NaN</td>\n",
       "      <td>NaN</td>\n",
       "      <td>NaN</td>\n",
       "      <td>NaN</td>\n",
       "      <td>NaN</td>\n",
       "      <td>NaN</td>\n",
       "      <td>NaN</td>\n",
       "    </tr>\n",
       "    <tr>\n",
       "      <th>2</th>\n",
       "      <td>32001</td>\n",
       "      <td>32001 - COUZON - CENTRE</td>\n",
       "      <td>Quai Jean Lavergne</td>\n",
       "      <td>Face Place de la Libération</td>\n",
       "      <td>NaN</td>\n",
       "      <td>Couzon-au-Mont-d'Or</td>\n",
       "      <td>NaN</td>\n",
       "      <td>False</td>\n",
       "      <td>Centre de Couzon au Mont d'Or</td>\n",
       "      <td>17</td>\n",
       "      <td>...</td>\n",
       "      <td>6</td>\n",
       "      <td>0</td>\n",
       "      <td>0</td>\n",
       "      <td>NaN</td>\n",
       "      <td>NaN</td>\n",
       "      <td>NaN</td>\n",
       "      <td>NaN</td>\n",
       "      <td>NaN</td>\n",
       "      <td>NaN</td>\n",
       "      <td>NaN</td>\n",
       "    </tr>\n",
       "    <tr>\n",
       "      <th>3</th>\n",
       "      <td>6004</td>\n",
       "      <td>6004 - FOCH</td>\n",
       "      <td>11, Cours Franklin Roosevelt</td>\n",
       "      <td>Angle Rue Vendôme</td>\n",
       "      <td>Angle rue Vendôme</td>\n",
       "      <td>Lyon 6e Arrondissement</td>\n",
       "      <td>4.0</td>\n",
       "      <td>False</td>\n",
       "      <td>Métro A - Coeur quartier</td>\n",
       "      <td>20</td>\n",
       "      <td>...</td>\n",
       "      <td>5</td>\n",
       "      <td>0</td>\n",
       "      <td>4</td>\n",
       "      <td>NaN</td>\n",
       "      <td>NaN</td>\n",
       "      <td>NaN</td>\n",
       "      <td>NaN</td>\n",
       "      <td>NaN</td>\n",
       "      <td>NaN</td>\n",
       "      <td>NaN</td>\n",
       "    </tr>\n",
       "    <tr>\n",
       "      <th>4</th>\n",
       "      <td>7035</td>\n",
       "      <td>7035 - MARSEILLE / UNIVERSITÉ</td>\n",
       "      <td>Place Deperet</td>\n",
       "      <td>Face 8, Rue de l'Université</td>\n",
       "      <td>Angle rue de Marseille</td>\n",
       "      <td>Lyon 7e Arrondissement</td>\n",
       "      <td>35.0</td>\n",
       "      <td>False</td>\n",
       "      <td>Tram T1 - Commerces - Université</td>\n",
       "      <td>40</td>\n",
       "      <td>...</td>\n",
       "      <td>16</td>\n",
       "      <td>0</td>\n",
       "      <td>23</td>\n",
       "      <td>NaN</td>\n",
       "      <td>NaN</td>\n",
       "      <td>NaN</td>\n",
       "      <td>NaN</td>\n",
       "      <td>NaN</td>\n",
       "      <td>NaN</td>\n",
       "      <td>NaN</td>\n",
       "    </tr>\n",
       "  </tbody>\n",
       "</table>\n",
       "<p>5 rows × 45 columns</p>\n",
       "</div>"
      ],
      "text/plain": [
       "   number                           name                       address  \\\n",
       "0    2010      2010 - CONFLUENCE / DARSE             Allée Andrée Mure   \n",
       "1    5015               5015 - FULCHIRON            41, Quai Fulchiron   \n",
       "2   32001        32001 - COUZON - CENTRE            Quai Jean Lavergne   \n",
       "3    6004                    6004 - FOCH  11, Cours Franklin Roosevelt   \n",
       "4    7035  7035 - MARSEILLE / UNIVERSITÉ                 Place Deperet   \n",
       "\n",
       "                      address2                                    address_jcd  \\\n",
       "0    Angle Quai Antoine Riboud  ANGLE ALLEE ANDRE MURE ET QUAI ANTOINE RIBOUD   \n",
       "1                          NaN           Devant le n°41 rue de la Quarantaine   \n",
       "2  Face Place de la Libération                                            NaN   \n",
       "3            Angle Rue Vendôme                              Angle rue Vendôme   \n",
       "4  Face 8, Rue de l'Université                         Angle rue de Marseille   \n",
       "\n",
       "                  commune  nmarrond  bonus                              pole  \\\n",
       "0  Lyon 2e Arrondissement      10.0  False        Pôle de Loisirs Confluence   \n",
       "1  Lyon 5e Arrondissement      15.0  False                          Maillage   \n",
       "2     Couzon-au-Mont-d'Or       NaN  False     Centre de Couzon au Mont d'Or   \n",
       "3  Lyon 6e Arrondissement       4.0  False          Métro A - Coeur quartier   \n",
       "4  Lyon 7e Arrondissement      35.0  False  Tram T1 - Commerces - Université   \n",
       "\n",
       "   bike_stands  ...  main_stands.availabilities.mechanicalBikes  \\\n",
       "0           22  ...                                           3   \n",
       "1           19  ...                                           5   \n",
       "2           17  ...                                           6   \n",
       "3           20  ...                                           5   \n",
       "4           40  ...                                          16   \n",
       "\n",
       "   main_stands.availabilities.electricalInternalBatteryBikes  \\\n",
       "0                                                  0           \n",
       "1                                                  0           \n",
       "2                                                  0           \n",
       "3                                                  0           \n",
       "4                                                  0           \n",
       "\n",
       "   main_stands.availabilities.electricalRemovableBatteryBikes  \\\n",
       "0                                                  5            \n",
       "1                                                 11            \n",
       "2                                                  0            \n",
       "3                                                  4            \n",
       "4                                                 23            \n",
       "\n",
       "  overflow_stands.capacity overflow_stands.availabilities.bikes  \\\n",
       "0                      NaN                                  NaN   \n",
       "1                      NaN                                  NaN   \n",
       "2                      NaN                                  NaN   \n",
       "3                      NaN                                  NaN   \n",
       "4                      NaN                                  NaN   \n",
       "\n",
       "   overflow_stands.availabilities.stands  \\\n",
       "0                                    NaN   \n",
       "1                                    NaN   \n",
       "2                                    NaN   \n",
       "3                                    NaN   \n",
       "4                                    NaN   \n",
       "\n",
       "   overflow_stands.availabilities.electricalBikes  \\\n",
       "0                                             NaN   \n",
       "1                                             NaN   \n",
       "2                                             NaN   \n",
       "3                                             NaN   \n",
       "4                                             NaN   \n",
       "\n",
       "   overflow_stands.availabilities.mechanicalBikes  \\\n",
       "0                                             NaN   \n",
       "1                                             NaN   \n",
       "2                                             NaN   \n",
       "3                                             NaN   \n",
       "4                                             NaN   \n",
       "\n",
       "   overflow_stands.availabilities.electricalInternalBatteryBikes  \\\n",
       "0                                                NaN               \n",
       "1                                                NaN               \n",
       "2                                                NaN               \n",
       "3                                                NaN               \n",
       "4                                                NaN               \n",
       "\n",
       "  overflow_stands.availabilities.electricalRemovableBatteryBikes  \n",
       "0                                                NaN              \n",
       "1                                                NaN              \n",
       "2                                                NaN              \n",
       "3                                                NaN              \n",
       "4                                                NaN              \n",
       "\n",
       "[5 rows x 45 columns]"
      ]
     },
     "execution_count": 174,
     "metadata": {},
     "output_type": "execute_result"
    }
   ],
   "source": [
    "data_from_dict = [item['properties'] for item in data['features']]\n",
    "df = pd.json_normalize(data_from_dict)\n",
    "df.head()"
   ]
  },
  {
   "cell_type": "markdown",
   "metadata": {},
   "source": [
    "### Sélection des colonnes pertinentes"
   ]
  },
  {
   "cell_type": "code",
   "execution_count": 175,
   "metadata": {},
   "outputs": [
    {
     "data": {
      "text/plain": [
       "(422, 45)"
      ]
     },
     "execution_count": 175,
     "metadata": {},
     "output_type": "execute_result"
    }
   ],
   "source": [
    "df.shape"
   ]
  },
  {
   "cell_type": "code",
   "execution_count": 176,
   "metadata": {},
   "outputs": [
    {
     "data": {
      "text/plain": [
       "Index(['number', 'name', 'address', 'address2', 'address_jcd', 'commune',\n",
       "       'nmarrond', 'bonus', 'pole', 'bike_stands', 'available_bike_stands',\n",
       "       'available_bikes', 'availabilitycode', 'availability', 'status',\n",
       "       'banking', 'lat', 'lng', 'gid', 'last_update', 'last_update_fme',\n",
       "       'last_update_gl', 'code_insee', 'overflow', 'total_stands.capacity',\n",
       "       'total_stands.availabilities.bikes',\n",
       "       'total_stands.availabilities.stands',\n",
       "       'total_stands.availabilities.electricalBikes',\n",
       "       'total_stands.availabilities.mechanicalBikes',\n",
       "       'total_stands.availabilities.electricalInternalBatteryBikes',\n",
       "       'total_stands.availabilities.electricalRemovableBatteryBikes',\n",
       "       'main_stands.capacity', 'main_stands.availabilities.bikes',\n",
       "       'main_stands.availabilities.stands',\n",
       "       'main_stands.availabilities.electricalBikes',\n",
       "       'main_stands.availabilities.mechanicalBikes',\n",
       "       'main_stands.availabilities.electricalInternalBatteryBikes',\n",
       "       'main_stands.availabilities.electricalRemovableBatteryBikes',\n",
       "       'overflow_stands.capacity', 'overflow_stands.availabilities.bikes',\n",
       "       'overflow_stands.availabilities.stands',\n",
       "       'overflow_stands.availabilities.electricalBikes',\n",
       "       'overflow_stands.availabilities.mechanicalBikes',\n",
       "       'overflow_stands.availabilities.electricalInternalBatteryBikes',\n",
       "       'overflow_stands.availabilities.electricalRemovableBatteryBikes'],\n",
       "      dtype='object')"
      ]
     },
     "execution_count": 176,
     "metadata": {},
     "output_type": "execute_result"
    }
   ],
   "source": [
    "df.columns"
   ]
  },
  {
   "cell_type": "markdown",
   "metadata": {},
   "source": [
    "Première sélection de colonnes qui nous intéressent"
   ]
  },
  {
   "cell_type": "code",
   "execution_count": 177,
   "metadata": {},
   "outputs": [
    {
     "data": {
      "text/html": [
       "<div>\n",
       "<style scoped>\n",
       "    .dataframe tbody tr th:only-of-type {\n",
       "        vertical-align: middle;\n",
       "    }\n",
       "\n",
       "    .dataframe tbody tr th {\n",
       "        vertical-align: top;\n",
       "    }\n",
       "\n",
       "    .dataframe thead th {\n",
       "        text-align: right;\n",
       "    }\n",
       "</style>\n",
       "<table border=\"1\" class=\"dataframe\">\n",
       "  <thead>\n",
       "    <tr style=\"text-align: right;\">\n",
       "      <th></th>\n",
       "      <th>gid</th>\n",
       "      <th>commune</th>\n",
       "      <th>bike_stands</th>\n",
       "      <th>status</th>\n",
       "      <th>lat</th>\n",
       "      <th>lng</th>\n",
       "    </tr>\n",
       "  </thead>\n",
       "  <tbody>\n",
       "    <tr>\n",
       "      <th>0</th>\n",
       "      <td>1</td>\n",
       "      <td>Lyon 2e Arrondissement</td>\n",
       "      <td>22</td>\n",
       "      <td>OPEN</td>\n",
       "      <td>45.743317</td>\n",
       "      <td>4.815747</td>\n",
       "    </tr>\n",
       "    <tr>\n",
       "      <th>1</th>\n",
       "      <td>2</td>\n",
       "      <td>Lyon 5e Arrondissement</td>\n",
       "      <td>19</td>\n",
       "      <td>OPEN</td>\n",
       "      <td>45.751970</td>\n",
       "      <td>4.821662</td>\n",
       "    </tr>\n",
       "    <tr>\n",
       "      <th>2</th>\n",
       "      <td>3</td>\n",
       "      <td>Couzon-au-Mont-d'Or</td>\n",
       "      <td>17</td>\n",
       "      <td>OPEN</td>\n",
       "      <td>45.846034</td>\n",
       "      <td>4.832409</td>\n",
       "    </tr>\n",
       "    <tr>\n",
       "      <th>3</th>\n",
       "      <td>4</td>\n",
       "      <td>Lyon 6e Arrondissement</td>\n",
       "      <td>20</td>\n",
       "      <td>OPEN</td>\n",
       "      <td>45.768896</td>\n",
       "      <td>4.844845</td>\n",
       "    </tr>\n",
       "    <tr>\n",
       "      <th>4</th>\n",
       "      <td>5</td>\n",
       "      <td>Lyon 7e Arrondissement</td>\n",
       "      <td>40</td>\n",
       "      <td>OPEN</td>\n",
       "      <td>45.750945</td>\n",
       "      <td>4.839270</td>\n",
       "    </tr>\n",
       "  </tbody>\n",
       "</table>\n",
       "</div>"
      ],
      "text/plain": [
       "   gid                 commune  bike_stands status        lat       lng\n",
       "0    1  Lyon 2e Arrondissement           22   OPEN  45.743317  4.815747\n",
       "1    2  Lyon 5e Arrondissement           19   OPEN  45.751970  4.821662\n",
       "2    3     Couzon-au-Mont-d'Or           17   OPEN  45.846034  4.832409\n",
       "3    4  Lyon 6e Arrondissement           20   OPEN  45.768896  4.844845\n",
       "4    5  Lyon 7e Arrondissement           40   OPEN  45.750945  4.839270"
      ]
     },
     "execution_count": 177,
     "metadata": {},
     "output_type": "execute_result"
    }
   ],
   "source": [
    "df_selection = df[['gid', 'commune', 'bike_stands', 'status', 'lat', 'lng']]\n",
    "df_selection.head()"
   ]
  },
  {
   "cell_type": "markdown",
   "metadata": {},
   "source": [
    "### Filtrage des données (communes et statut)"
   ]
  },
  {
   "cell_type": "code",
   "execution_count": 178,
   "metadata": {},
   "outputs": [],
   "source": [
    "df_selection = df_selection[df_selection['commune'].isin(['Lyon 2e Arrondissement', 'Lyon 5e Arrondissement',\n",
    "        'Lyon 6e Arrondissement',\n",
    "       'Lyon 7e Arrondissement', 'Lyon 9e Arrondissement',\n",
    "        'Lyon 4e Arrondissement', \n",
    "        'Lyon 3e Arrondissement', 'Lyon 8e Arrondissement',\n",
    "       'Lyon 1er Arrondissement'])]"
   ]
  },
  {
   "cell_type": "code",
   "execution_count": 179,
   "metadata": {},
   "outputs": [],
   "source": [
    "df_selection = df_selection[df_selection['status']=='OPEN']"
   ]
  },
  {
   "cell_type": "code",
   "execution_count": 180,
   "metadata": {},
   "outputs": [
    {
     "data": {
      "text/plain": [
       "(293, 6)"
      ]
     },
     "execution_count": 180,
     "metadata": {},
     "output_type": "execute_result"
    }
   ],
   "source": [
    "df_selection.shape"
   ]
  },
  {
   "cell_type": "code",
   "execution_count": 181,
   "metadata": {},
   "outputs": [],
   "source": [
    "df_selection.drop(['status'], axis=1, inplace=True)"
   ]
  },
  {
   "cell_type": "code",
   "execution_count": 182,
   "metadata": {},
   "outputs": [
    {
     "data": {
      "text/html": [
       "<div>\n",
       "<style scoped>\n",
       "    .dataframe tbody tr th:only-of-type {\n",
       "        vertical-align: middle;\n",
       "    }\n",
       "\n",
       "    .dataframe tbody tr th {\n",
       "        vertical-align: top;\n",
       "    }\n",
       "\n",
       "    .dataframe thead th {\n",
       "        text-align: right;\n",
       "    }\n",
       "</style>\n",
       "<table border=\"1\" class=\"dataframe\">\n",
       "  <thead>\n",
       "    <tr style=\"text-align: right;\">\n",
       "      <th></th>\n",
       "      <th>gid</th>\n",
       "      <th>commune</th>\n",
       "      <th>bike_stands</th>\n",
       "      <th>lat</th>\n",
       "      <th>lng</th>\n",
       "    </tr>\n",
       "  </thead>\n",
       "  <tbody>\n",
       "    <tr>\n",
       "      <th>0</th>\n",
       "      <td>1</td>\n",
       "      <td>Lyon 2e Arrondissement</td>\n",
       "      <td>22</td>\n",
       "      <td>45.743317</td>\n",
       "      <td>4.815747</td>\n",
       "    </tr>\n",
       "    <tr>\n",
       "      <th>1</th>\n",
       "      <td>2</td>\n",
       "      <td>Lyon 5e Arrondissement</td>\n",
       "      <td>19</td>\n",
       "      <td>45.751970</td>\n",
       "      <td>4.821662</td>\n",
       "    </tr>\n",
       "    <tr>\n",
       "      <th>3</th>\n",
       "      <td>4</td>\n",
       "      <td>Lyon 6e Arrondissement</td>\n",
       "      <td>20</td>\n",
       "      <td>45.768896</td>\n",
       "      <td>4.844845</td>\n",
       "    </tr>\n",
       "    <tr>\n",
       "      <th>4</th>\n",
       "      <td>5</td>\n",
       "      <td>Lyon 7e Arrondissement</td>\n",
       "      <td>40</td>\n",
       "      <td>45.750945</td>\n",
       "      <td>4.839270</td>\n",
       "    </tr>\n",
       "    <tr>\n",
       "      <th>6</th>\n",
       "      <td>7</td>\n",
       "      <td>Lyon 5e Arrondissement</td>\n",
       "      <td>13</td>\n",
       "      <td>45.756204</td>\n",
       "      <td>4.802727</td>\n",
       "    </tr>\n",
       "  </tbody>\n",
       "</table>\n",
       "</div>"
      ],
      "text/plain": [
       "   gid                 commune  bike_stands        lat       lng\n",
       "0    1  Lyon 2e Arrondissement           22  45.743317  4.815747\n",
       "1    2  Lyon 5e Arrondissement           19  45.751970  4.821662\n",
       "3    4  Lyon 6e Arrondissement           20  45.768896  4.844845\n",
       "4    5  Lyon 7e Arrondissement           40  45.750945  4.839270\n",
       "6    7  Lyon 5e Arrondissement           13  45.756204  4.802727"
      ]
     },
     "execution_count": 182,
     "metadata": {},
     "output_type": "execute_result"
    }
   ],
   "source": [
    "df_selection.head()"
   ]
  },
  {
   "cell_type": "code",
   "execution_count": 183,
   "metadata": {},
   "outputs": [
    {
     "data": {
      "text/plain": [
       "gid            0\n",
       "commune        0\n",
       "bike_stands    0\n",
       "lat            0\n",
       "lng            0\n",
       "dtype: int64"
      ]
     },
     "execution_count": 183,
     "metadata": {},
     "output_type": "execute_result"
    }
   ],
   "source": [
    "df_selection.isna().sum()"
   ]
  },
  {
   "cell_type": "code",
   "execution_count": 184,
   "metadata": {},
   "outputs": [
    {
     "data": {
      "text/plain": [
       "0"
      ]
     },
     "execution_count": 184,
     "metadata": {},
     "output_type": "execute_result"
    }
   ],
   "source": [
    "df_selection.duplicated().sum()"
   ]
  },
  {
   "cell_type": "code",
   "execution_count": 185,
   "metadata": {},
   "outputs": [
    {
     "data": {
      "text/html": [
       "<div>\n",
       "<style scoped>\n",
       "    .dataframe tbody tr th:only-of-type {\n",
       "        vertical-align: middle;\n",
       "    }\n",
       "\n",
       "    .dataframe tbody tr th {\n",
       "        vertical-align: top;\n",
       "    }\n",
       "\n",
       "    .dataframe thead th {\n",
       "        text-align: right;\n",
       "    }\n",
       "</style>\n",
       "<table border=\"1\" class=\"dataframe\">\n",
       "  <thead>\n",
       "    <tr style=\"text-align: right;\">\n",
       "      <th></th>\n",
       "      <th>gid</th>\n",
       "      <th>bike_stands</th>\n",
       "      <th>lat</th>\n",
       "      <th>lng</th>\n",
       "    </tr>\n",
       "  </thead>\n",
       "  <tbody>\n",
       "    <tr>\n",
       "      <th>count</th>\n",
       "      <td>293.000000</td>\n",
       "      <td>293.000000</td>\n",
       "      <td>293.000000</td>\n",
       "      <td>293.000000</td>\n",
       "    </tr>\n",
       "    <tr>\n",
       "      <th>mean</th>\n",
       "      <td>214.962457</td>\n",
       "      <td>21.412969</td>\n",
       "      <td>45.757506</td>\n",
       "      <td>4.840758</td>\n",
       "    </tr>\n",
       "    <tr>\n",
       "      <th>std</th>\n",
       "      <td>126.854147</td>\n",
       "      <td>7.610157</td>\n",
       "      <td>0.015492</td>\n",
       "      <td>0.022497</td>\n",
       "    </tr>\n",
       "    <tr>\n",
       "      <th>min</th>\n",
       "      <td>1.000000</td>\n",
       "      <td>10.000000</td>\n",
       "      <td>45.722800</td>\n",
       "      <td>4.783206</td>\n",
       "    </tr>\n",
       "    <tr>\n",
       "      <th>25%</th>\n",
       "      <td>105.000000</td>\n",
       "      <td>16.000000</td>\n",
       "      <td>45.746681</td>\n",
       "      <td>4.826720</td>\n",
       "    </tr>\n",
       "    <tr>\n",
       "      <th>50%</th>\n",
       "      <td>211.000000</td>\n",
       "      <td>20.000000</td>\n",
       "      <td>45.757571</td>\n",
       "      <td>4.840495</td>\n",
       "    </tr>\n",
       "    <tr>\n",
       "      <th>75%</th>\n",
       "      <td>324.000000</td>\n",
       "      <td>25.000000</td>\n",
       "      <td>45.768223</td>\n",
       "      <td>4.856713</td>\n",
       "    </tr>\n",
       "    <tr>\n",
       "      <th>max</th>\n",
       "      <td>435.000000</td>\n",
       "      <td>59.000000</td>\n",
       "      <td>45.801192</td>\n",
       "      <td>4.894272</td>\n",
       "    </tr>\n",
       "  </tbody>\n",
       "</table>\n",
       "</div>"
      ],
      "text/plain": [
       "              gid  bike_stands         lat         lng\n",
       "count  293.000000   293.000000  293.000000  293.000000\n",
       "mean   214.962457    21.412969   45.757506    4.840758\n",
       "std    126.854147     7.610157    0.015492    0.022497\n",
       "min      1.000000    10.000000   45.722800    4.783206\n",
       "25%    105.000000    16.000000   45.746681    4.826720\n",
       "50%    211.000000    20.000000   45.757571    4.840495\n",
       "75%    324.000000    25.000000   45.768223    4.856713\n",
       "max    435.000000    59.000000   45.801192    4.894272"
      ]
     },
     "execution_count": 185,
     "metadata": {},
     "output_type": "execute_result"
    }
   ],
   "source": [
    "df_selection.describe()"
   ]
  },
  {
   "cell_type": "code",
   "execution_count": 186,
   "metadata": {},
   "outputs": [
    {
     "name": "stdout",
     "output_type": "stream",
     "text": [
      "<class 'pandas.core.frame.DataFrame'>\n",
      "Int64Index: 293 entries, 0 to 417\n",
      "Data columns (total 5 columns):\n",
      " #   Column       Non-Null Count  Dtype  \n",
      "---  ------       --------------  -----  \n",
      " 0   gid          293 non-null    int64  \n",
      " 1   commune      293 non-null    object \n",
      " 2   bike_stands  293 non-null    int64  \n",
      " 3   lat          293 non-null    float64\n",
      " 4   lng          293 non-null    float64\n",
      "dtypes: float64(2), int64(2), object(1)\n",
      "memory usage: 13.7+ KB\n"
     ]
    }
   ],
   "source": [
    "df_selection.info()"
   ]
  },
  {
   "cell_type": "code",
   "execution_count": 187,
   "metadata": {},
   "outputs": [],
   "source": [
    "df_selection.rename(columns={'gid': 'id', 'commune': 'arrondissement'}, inplace=True)"
   ]
  },
  {
   "cell_type": "code",
   "execution_count": 188,
   "metadata": {},
   "outputs": [
    {
     "data": {
      "text/plain": [
       "Index(['id', 'arrondissement', 'bike_stands', 'lat', 'lng'], dtype='object')"
      ]
     },
     "execution_count": 188,
     "metadata": {},
     "output_type": "execute_result"
    }
   ],
   "source": [
    "df_selection.columns"
   ]
  },
  {
   "cell_type": "code",
   "execution_count": 189,
   "metadata": {},
   "outputs": [],
   "source": [
    "df_selection['arrondissement'] = df_selection['arrondissement'].str.replace('Lyon ', '')"
   ]
  },
  {
   "cell_type": "code",
   "execution_count": 190,
   "metadata": {},
   "outputs": [
    {
     "data": {
      "text/html": [
       "<div>\n",
       "<style scoped>\n",
       "    .dataframe tbody tr th:only-of-type {\n",
       "        vertical-align: middle;\n",
       "    }\n",
       "\n",
       "    .dataframe tbody tr th {\n",
       "        vertical-align: top;\n",
       "    }\n",
       "\n",
       "    .dataframe thead th {\n",
       "        text-align: right;\n",
       "    }\n",
       "</style>\n",
       "<table border=\"1\" class=\"dataframe\">\n",
       "  <thead>\n",
       "    <tr style=\"text-align: right;\">\n",
       "      <th></th>\n",
       "      <th>id</th>\n",
       "      <th>arrondissement</th>\n",
       "      <th>bike_stands</th>\n",
       "      <th>coordinates</th>\n",
       "    </tr>\n",
       "  </thead>\n",
       "  <tbody>\n",
       "    <tr>\n",
       "      <th>0</th>\n",
       "      <td>1</td>\n",
       "      <td>2e Arrondissement</td>\n",
       "      <td>22</td>\n",
       "      <td>45.743317,4.815747</td>\n",
       "    </tr>\n",
       "    <tr>\n",
       "      <th>1</th>\n",
       "      <td>2</td>\n",
       "      <td>5e Arrondissement</td>\n",
       "      <td>19</td>\n",
       "      <td>45.75197,4.821662</td>\n",
       "    </tr>\n",
       "  </tbody>\n",
       "</table>\n",
       "</div>"
      ],
      "text/plain": [
       "   id     arrondissement  bike_stands         coordinates\n",
       "0   1  2e Arrondissement           22  45.743317,4.815747\n",
       "1   2  5e Arrondissement           19   45.75197,4.821662"
      ]
     },
     "execution_count": 190,
     "metadata": {},
     "output_type": "execute_result"
    }
   ],
   "source": [
    "df_selection['coordinates'] = df_selection['lat'].astype(str) + ',' + df_selection['lng'].astype(str)\n",
    "df_selection.drop(['lat', 'lng'], axis=1, inplace=True)\n",
    "df_selection.head(2)"
   ]
  },
  {
   "cell_type": "markdown",
   "metadata": {},
   "source": [
    "### Export en csv"
   ]
  },
  {
   "cell_type": "code",
   "execution_count": 191,
   "metadata": {},
   "outputs": [],
   "source": [
    "df_selection.to_csv('output/bornes_vlov_lyon.csv', index=False, sep=';')"
   ]
  },
  {
   "cell_type": "markdown",
   "metadata": {},
   "source": [
    "### Premier apperçu de la distribution des données"
   ]
  },
  {
   "cell_type": "code",
   "execution_count": 192,
   "metadata": {},
   "outputs": [
    {
     "data": {
      "image/png": "[encoded data removed]",
      "text/plain": [
       "<Figure size 640x480 with 1 Axes>"
      ]
     },
     "metadata": {},
     "output_type": "display_data"
    }
   ],
   "source": [
    "sns.histplot(df_selection['bike_stands'])\n",
    "plt.title(\"Distribution du nombre d'emplacements par borne\");"
   ]
  },
  {
   "cell_type": "code",
   "execution_count": 193,
   "metadata": {},
   "outputs": [
    {
     "data": {
      "image/png": "[encoded data removed]",
      "text/plain": [
       "<Figure size 640x480 with 1 Axes>"
      ]
     },
     "metadata": {},
     "output_type": "display_data"
    }
   ],
   "source": [
    "sns.barplot(data=df_selection[['arrondissement', 'bike_stands']].groupby('arrondissement').mean().reset_index(),\n",
    "             x='bike_stands', y='arrondissement', \n",
    "             orient='horizontal', ci=None)\n",
    "plt.title(\"Moyenne d'emplacements par borne, par arrondissement\");"
   ]
  },
  {
   "cell_type": "code",
   "execution_count": 194,
   "metadata": {},
   "outputs": [
    {
     "data": {
      "image/png": "[encoded data removed]",
      "text/plain": [
       "<Figure size 640x480 with 1 Axes>"
      ]
     },
     "metadata": {},
     "output_type": "display_data"
    }
   ],
   "source": [
    "sns.barplot(data=df_selection[['arrondissement', 'bike_stands']].groupby('arrondissement').sum().reset_index(),\n",
    "             x='bike_stands', y='arrondissement', \n",
    "             orient='horizontal', ci=None)\n",
    "plt.title(\"Capacités d'emplacements par arrondissement\");"
   ]
  },
  {
   "cell_type": "code",
   "execution_count": 195,
   "metadata": {},
   "outputs": [
    {
     "data": {
      "image/png": "[encoded data removed]",
      "text/plain": [
       "<Figure size 640x480 with 1 Axes>"
      ]
     },
     "metadata": {},
     "output_type": "display_data"
    }
   ],
   "source": [
    "count_of_terminal = df_selection['arrondissement'].value_counts().reset_index().sort_values(by='index')\n",
    "sns.barplot(data=count_of_terminal, x='arrondissement', y='index')\n",
    "plt.xlabel('Nombre de bornes')\n",
    "plt.ylabel('Arrondissement')\n",
    "plt.title('Nombre de bornes par arrondissement');"
   ]
  },
  {
   "cell_type": "code",
   "execution_count": null,
   "metadata": {},
   "outputs": [],
   "source": []
  }
 ],
 "metadata": {
  "kernelspec": {
   "display_name": "artefact",
   "language": "python",
   "name": "python3"
  },
  "language_info": {
   "codemirror_mode": {
    "name": "ipython",
    "version": 3
   },
   "file_extension": ".py",
   "mimetype": "text/x-python",
   "name": "python",
   "nbconvert_exporter": "python",
   "pygments_lexer": "ipython3",
   "version": "3.10.12"
  }
 },
 "nbformat": 4,
 "nbformat_minor": 2
}
