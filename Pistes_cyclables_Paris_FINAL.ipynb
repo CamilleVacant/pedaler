{
 "cells": [
  {
   "cell_type": "code",
   "execution_count": null,
   "metadata": {},
   "outputs": [],
   "source": [
    "# pip install contextily"
   ]
  },
  {
   "cell_type": "code",
   "execution_count": null,
   "metadata": {},
   "outputs": [],
   "source": [
    "import geopandas as gpd\n",
    "import matplotlib.pyplot as plt\n",
    "import contextily as cx\n",
    "import pandas as pd\n",
    "\n",
    "# Charger le fichier GeoJSON des aménagements cyclables\n",
    "gdf = gpd.read_file('data/amenagements-cyclables.geojson')\n",
    "\n",
    "# Filtrer les données pour Paris en utilisant la colonne 'arrondissement'\n",
    "gdf_paris = gdf[gdf['arrondissement'].notnull()]  # Filtrer pour Paris\n",
    "\n",
    "# Filtrer uniquement les aménagements cyclables pertinents\n",
    "aménagements_cyclables = [\n",
    "    'bande cyclable', \n",
    "    'piste cyclable', \n",
    "    'voie verte', \n",
    "    'double-sens cyclable simple', \n",
    "    'couloir bus ouvert aux vélos'\n",
    "]\n",
    "\n",
    "gdf_paris_cyclable = gdf_paris[gdf_paris['amenagement'].isin(aménagements_cyclables)]"
   ]
  },
  {
   "cell_type": "markdown",
   "metadata": {},
   "source": [
    "### **VERIF DISTANCES**"
   ]
  },
  {
   "cell_type": "code",
   "execution_count": null,
   "metadata": {},
   "outputs": [],
   "source": [
    "# Reprojeter en EPSG:2154 pour un calcul de longueur précis en mètres\n",
    "gdf_paris_cyclable = gdf_paris_cyclable.to_crs(epsg=2154)\n",
    "\n",
    "# Séparer les données selon la valeur de 'voie_a_sens_unique'\n",
    "gdf_paris_cyclable_non_unique = gdf_paris_cyclable[gdf_paris_cyclable['voie_a_sens_unique'] == 'non']\n",
    "gdf_paris_cyclable_unique = gdf_paris_cyclable[gdf_paris_cyclable['voie_a_sens_unique'] != 'non']\n",
    "\n",
    "# Pour les aménagements à double sens, conserver les lignes les plus récentes\n",
    "gdf_paris_cyclable_non_unique = gdf_paris_cyclable_non_unique.sort_values(by='date_export', ascending=False)\n",
    "gdf_paris_cyclable_non_unique = gdf_paris_cyclable_non_unique.drop_duplicates(subset=['osm_id', 'cote_amenagement'])\n",
    "\n",
    "# Pour les aménagements à sens unique, conserver uniquement la ligne la plus récente\n",
    "gdf_paris_cyclable_unique = gdf_paris_cyclable_unique.sort_values(by='date_export', ascending=False)\n",
    "gdf_paris_cyclable_unique = gdf_paris_cyclable_unique.drop_duplicates(subset=['osm_id'])\n",
    "\n",
    "# Combiner les deux DataFrames traités\n",
    "gdf_paris_cyclable_final = pd.concat([gdf_paris_cyclable_non_unique, gdf_paris_cyclable_unique])\n",
    "\n",
    "# Calculer la longueur des aménagements cyclables (en kilomètres)\n",
    "gdf_paris_cyclable_final['longueur'] = gdf_paris_cyclable_final.geometry.length / 1000  # Conversion des mètres en kilomètres\n",
    "\n",
    "# Grouper par type d'aménagement et sommer les longueurs\n",
    "longueur_par_type = gdf_paris_cyclable_final.groupby('amenagement')['longueur'].sum()\n",
    "\n",
    "# Afficher les longueurs par type d'aménagement en kilomètres\n",
    "print(\"Longueur par type d'aménagement cyclable à Paris (en km) :\")\n",
    "for amenagement, longueur in longueur_par_type.items():\n",
    "    print(f\"{amenagement}: {longueur:.2f} km\")\n",
    "\n",
    "# Calculer et afficher la longueur totale des aménagements cyclables (en km)\n",
    "total_length = longueur_par_type.sum()\n",
    "print(f\"\\nLongueur totale des aménagements cyclables à Paris : {total_length:.2f} km\")"
   ]
  },
  {
   "cell_type": "markdown",
   "metadata": {},
   "source": [
    "### **LECTURE CARTE VIA GEOJSON**"
   ]
  },
  {
   "cell_type": "code",
   "execution_count": null,
   "metadata": {},
   "outputs": [],
   "source": [
    "gdf_paris_web_mercator.head()"
   ]
  },
  {
   "cell_type": "code",
   "execution_count": null,
   "metadata": {},
   "outputs": [],
   "source": [
    "# Reprojeter en EPSG:3857 pour la visualisation sur la carte\n",
    "gdf_paris_web_mercator = gdf_paris_cyclable_final.to_crs(epsg=3857)\n",
    "\n",
    "# Créer une figure et un axe pour la carte\n",
    "fig, ax = plt.subplots(figsize=(10, 8))\n",
    "\n",
    "# Tracer les aménagements cyclables\n",
    "gdf_paris_web_mercator.plot(ax=ax, alpha=0.7, linewidth=1, column='amenagement', legend=True)\n",
    "\n",
    "# Ajouter le fond de carte\n",
    "cx.add_basemap(ax, source=cx.providers.CartoDB.Positron)\n",
    "\n",
    "# Titre et mise en page\n",
    "plt.title('Aménagements cyclables à Paris', fontsize=16)\n",
    "plt.axis('off')\n",
    "\n",
    "# Ajuster les limites de la carte aux données de Paris\n",
    "ax.set_xlim(gdf_paris_web_mercator.total_bounds[[0, 2]])\n",
    "ax.set_ylim(gdf_paris_web_mercator.total_bounds[[1, 3]])\n",
    "\n",
    "# Afficher la carte\n",
    "plt.tight_layout()\n",
    "plt.show()"
   ]
  },
  {
   "cell_type": "code",
   "execution_count": null,
   "metadata": {},
   "outputs": [],
   "source": [
    "gdf_paris_cyclable.head()"
   ]
  },
  {
   "cell_type": "code",
   "execution_count": null,
   "metadata": {},
   "outputs": [],
   "source": [
    "# gdf_paris_cyclable['osm_id'].value_counts().sort_values(ascending=False)\n",
    "\n",
    "gdf_paris_cyclable[gdf_paris_cyclable['osm_id'] == 41486595]"
   ]
  },
  {
   "cell_type": "markdown",
   "metadata": {},
   "source": [
    "### **SAVE FILE**"
   ]
  },
  {
   "cell_type": "code",
   "execution_count": null,
   "metadata": {},
   "outputs": [],
   "source": [
    "# Sauvegarder les résultats pour Paris dans un nouveau fichier GeoJSON\n",
    "gdf_paris_cyclable.to_file('data/paris_amenagements_cyclables.geojson', driver='GeoJSON')"
   ]
  },
  {
   "cell_type": "code",
   "execution_count": null,
   "metadata": {},
   "outputs": [],
   "source": [
    "gdf_paris_cyclable_final.to_csv('paris_pistes_cyclables.csv', index=False, sep=';')"
   ]
  }
 ],
 "metadata": {
  "kernelspec": {
   "display_name": "artefact",
   "language": "python",
   "name": "python3"
  },
  "language_info": {
   "codemirror_mode": {
    "name": "ipython",
    "version": 3
   },
   "file_extension": ".py",
   "mimetype": "text/x-python",
   "name": "python",
   "nbconvert_exporter": "python",
   "pygments_lexer": "ipython3",
   "version": "3.10.12"
  }
 },
 "nbformat": 4,
 "nbformat_minor": 2
}
