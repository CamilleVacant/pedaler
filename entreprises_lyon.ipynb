{
 "cells": [
  {
   "cell_type": "code",
   "execution_count": null,
   "metadata": {},
   "outputs": [],
   "source": [
    "import pandas as pd\n",
    "# Charger le fichier CSV\n",
    "df = pd.read_csv(\"fichier_lyon.csv\")\n",
    "\n",
    "# Sélectionner les colonnes pertinentes\n",
    "df_dc = df[['siren', 'codePostalEtablissement', 'dateCreationEtablissement']]\n",
    "df_dc.head()"
   ]
  },
  {
   "cell_type": "code",
   "execution_count": null,
   "metadata": {},
   "outputs": [],
   "source": [
    "# Remplacer les 'NN' par NaN\n",
    "df_dc = df_dc.replace('NN', pd.NA)\n",
    "\n",
    "# Supprimer les lignes contenant des NaN\n",
    "df_dc = df_dc.dropna()\n",
    "\n",
    "# Convertir la colonne 'dateCreationEtablissement' en datetime\n",
    "df_dc['dateCreationEtablissement'] = pd.to_datetime(df_dc['dateCreationEtablissement'])\n",
    "\n",
    "df_dc.head()"
   ]
  },
  {
   "cell_type": "code",
   "execution_count": null,
   "metadata": {},
   "outputs": [],
   "source": [
    "# Dictionnaire de mappage pour les arrondissements\n",
    "arrondissement_mapping = {\n",
    "    '69001': 'Lyon 1',\n",
    "    '69002': 'Lyon 2',\n",
    "    '69003': 'Lyon 3',\n",
    "    '69004': 'Lyon 4',\n",
    "    '69005': 'Lyon 5',\n",
    "    '69006': 'Lyon 6',\n",
    "    '69007': 'Lyon 7',\n",
    "    '69008': 'Lyon 8',\n",
    "    '69009': 'Lyon 9'\n",
    "}\n",
    "\n",
    "# Créer une nouvelle colonne 'arrondissement' avec les noms d'arrondissements\n",
    "df_dc['arrondissement'] = df_dc['codePostalEtablissement'].astype(str).map(arrondissement_mapping)\n",
    "\n",
    "# Réorganiser les colonnes pour que 'arrondissement' soit en troisième position\n",
    "cols = ['siren', 'codePostalEtablissement', 'arrondissement', 'dateCreationEtablissement']\n",
    "df_dc = df_dc[cols]\n",
    "\n",
    "# Ajouter \"FR-\" devant chaque code postal\n",
    "df_dc['codePostalEtablissement'] = df_dc['codePostalEtablissement'].apply(lambda x: 'FR-' + str(x))\n",
    "\n",
    "# Afficher les informations et les premières lignes pour vérifier\n",
    "df_dc.info()\n",
    "df_dc.head()"
   ]
  },
  {
   "cell_type": "code",
   "execution_count": 5,
   "metadata": {},
   "outputs": [],
   "source": [
    "df_dc.to_csv('fichier_lyon_dc.csv', index=False)"
   ]
  },
  {
   "cell_type": "code",
   "execution_count": null,
   "metadata": {},
   "outputs": [],
   "source": [
    "import pandas as pd\n",
    "import geopandas as gpd\n",
    "import matplotlib.pyplot as plt\n",
    "import contextily as cx\n",
    "\n",
    "# Charger les données CSV\n",
    "df_entreprises = pd.read_csv('fichier_lyon_dc.csv')\n",
    "\n",
    "# Compter le nombre d'entreprises par arrondissement\n",
    "df_count = df_entreprises.groupby('arrondissement').size().reset_index(name='nombre_entreprises')\n",
    "\n",
    "# Charger les données géographiques (par exemple un GeoJSON des arrondissements de Lyon)\n",
    "gdf_arrondissements = gpd.read_file('metropole-de-lyon_adr_voie_lieu.adrarrond.json')\n",
    "\n",
    "# Reprojeter en EPSG:3857 pour la visualisation sur la carte\n",
    "gdf_lyon_web_mercator = gdf_arrondissements.to_crs(epsg=3857)\n",
    "\n",
    "# Fusionner les deux DataFrames sur le nom de l'arrondissement\n",
    "gdf_merged = gdf_arrondissements.merge(df_count, left_on='nomreduit', right_on='arrondissement')\n",
    "\n",
    "# Créer une carte avec une coloration en fonction du nombre d'entreprises\n",
    "gdf_merged.plot(column='nombre_entreprises', cmap='Blues', legend=True)\n",
    "\n",
    "# Créer une figure et un axe pour la carte\n",
    "fig, ax = plt.subplots(figsize=(10, 8))\n",
    "\n",
    "# Ajouter le fond de carte\n",
    "cx.add_basemap(ax, source=cx.providers.CartoDB.Positron)\n",
    "\n",
    "# Titre et mise en page\n",
    "plt.title('concentration des entreprises à Lyon', fontsize=16)\n",
    "plt.axis('off')\n",
    "\n",
    "# Récupérer les limites actuelles de la carte\n",
    "minx, miny, maxx, maxy = gdf_lyon_web_mercator.total_bounds\n",
    "\n",
    "# Facteur de zoom (plus grand que 1 pour zoomer)\n",
    "zoom_factor = 1  # Modifie cette valeur pour plus de zoom (1.2 signifie zoom arrière, 0.8 pour zoom avant)\n",
    "\n",
    "# Calculer les nouvelles limites avec le zoom\n",
    "x_range = maxx - minx\n",
    "y_range = maxy - miny\n",
    "\n",
    "new_minx = minx - (zoom_factor - 1) * x_range / 2\n",
    "new_maxx = maxx + (zoom_factor - 1) * x_range / 2\n",
    "new_miny = miny - (zoom_factor - 1) * y_range / 2\n",
    "new_maxy = maxy + (zoom_factor - 1) * y_range / 2\n",
    "\n",
    "# Ajuster les limites de la carte avec le zoom\n",
    "ax.set_xlim([new_minx, new_maxx])\n",
    "ax.set_ylim([new_miny, new_maxy])\n",
    "\n",
    "# Afficher la carte\n",
    "plt.tight_layout()\n",
    "plt.show()"
   ]
  }
 ],
 "metadata": {
  "kernelspec": {
   "display_name": "artefact",
   "language": "python",
   "name": "python3"
  },
  "language_info": {
   "codemirror_mode": {
    "name": "ipython",
    "version": 3
   },
   "file_extension": ".py",
   "mimetype": "text/x-python",
   "name": "python",
   "nbconvert_exporter": "python",
   "pygments_lexer": "ipython3",
   "version": "3.10.12"
  }
 },
 "nbformat": 4,
 "nbformat_minor": 2
}
