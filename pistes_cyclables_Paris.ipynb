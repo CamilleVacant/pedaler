{
 "cells": [
  {
   "cell_type": "code",
   "execution_count": null,
   "metadata": {},
   "outputs": [],
   "source": [
    "# Importation des bibliothèques nécessaires\n",
    "import pandas as pd\n",
    "import json\n",
    "from tqdm import tqdm\n",
    "\n",
    "# Étape 1: Chargement des données\n",
    "\n",
    "# Exemple : chargement des données depuis un fichier csv\n",
    "\n",
    "# print(\"Chargement des données...\")\n",
    "# df = pd.read_csv('votre_fichier.csv')\n",
    "# print(\"Données chargées. Shape:\", df.shape)\n",
    "\n",
    "# Exemple : chargement des données depuis un fichier JSON\n",
    "\n",
    "print(\"Chargement des données...\")\n",
    "df = pd.read_json('data/amenagements-cyclables.json')\n",
    "print(\"Données chargées. Shape:\", df.shape)\n",
    "\n",
    "# Afficher une barre de progression pendant l'import des données\n",
    "\n",
    "# filename = 'data/amenagements-cyclables.json'\n",
    "\n",
    "# def count_lines(filename):\n",
    "#     with open(filename, 'r') as file:\n",
    "#         return sum(1 for line in file)\n",
    "\n",
    "# total_lines = count_lines(filename)\n",
    "# pbar = tqdm(total=total_lines, unit='lignes')\n",
    "\n",
    "# df_list = []\n",
    "# with open(filename, 'r') as f:\n",
    "#     for line in f:\n",
    "#         df_list.append(pd.json_normalize(json.loads(line)))\n",
    "#         pbar.update(1)\n",
    "\n",
    "# df = pd.concat(df_list, ignore_index=True)\n",
    "\n",
    "# pbar.close()\n",
    "\n",
    "# print(\"Données chargées. Shape:\", df.shape)"
   ]
  },
  {
   "cell_type": "code",
   "execution_count": null,
   "metadata": {},
   "outputs": [],
   "source": [
    "# Étape 2: Inspection initiale\n",
    "print(\"Aperçu des données:\")\n",
    "df.head()"
   ]
  },
  {
   "cell_type": "code",
   "execution_count": null,
   "metadata": {},
   "outputs": [],
   "source": [
    "print(\"Informations sur les colonnes:\")\n",
    "print(df.info())\n",
    "print(\"\\nStatistiques descriptives:\")\n",
    "print(df.describe())"
   ]
  },
  {
   "cell_type": "code",
   "execution_count": null,
   "metadata": {},
   "outputs": [],
   "source": [
    "# Étape 3: Traitement des valeurs manquantes\n",
    "print(\"\\nValeurs manquantes avant traitement:\")\n",
    "print(df.isnull().sum())\n",
    "\n",
    "# Remplacer les valeurs manquantes numériques par la médiane\n",
    "# numeric_columns = df.select_dtypes(include=[np.number]).columns\n",
    "# df[numeric_columns] = df[numeric_columns].fillna(df[numeric_columns].median())\n",
    "\n",
    "# Remplacer les valeurs manquantes catégorielles par le mode\n",
    "# categorical_columns = df.select_dtypes(include=['object']).columns\n",
    "# df[categorical_columns] = df[categorical_columns].fillna(df[categorical_columns].mode().iloc[0])\n",
    "\n",
    "# print(\"Valeurs manquantes après traitement:\")\n",
    "# print(df.isnull().sum())"
   ]
  },
  {
   "cell_type": "code",
   "execution_count": null,
   "metadata": {},
   "outputs": [],
   "source": [
    "# Étape 4: Vérification et conversion des types de données\n",
    "# Exemple : conversion d'une colonne en type datetime\n",
    "if 'date' in df.columns:\n",
    "    df['date'] = pd.to_datetime(df['date'])\n",
    "\n",
    "# Exemple : conversion d'une colonne en type catégoriel\n",
    "if 'category' in df.columns:\n",
    "    df['category'] = df['category'].astype('category')\n",
    "\n",
    "print(\"\\nTypes de données après conversion:\")\n",
    "print(df.dtypes)"
   ]
  },
  {
   "cell_type": "code",
   "execution_count": null,
   "metadata": {},
   "outputs": [],
   "source": [
    "# Étape 5: Détection et traitement des valeurs aberrantes\n",
    "# Exemple pour les colonnes 'age' et 'salary'\n",
    "for col in ['age', 'salary']:  # Ajustez ces colonnes selon votre dataset\n",
    "    Q1 = df[col].quantile(0.25)\n",
    "    Q3 = df[col].quantile(0.75)\n",
    "    IQR = Q3 - Q1\n",
    "    lower_bound = Q1 - 1.5 * IQR\n",
    "    upper_bound = Q3 + 1.5 * IQR\n",
    "    df[col] = df[col].clip(lower_bound, upper_bound)\n",
    "print(\"\\nValeurs aberrantes traitées pour les colonnes: age, salary\")"
   ]
  },
  {
   "cell_type": "code",
   "execution_count": null,
   "metadata": {},
   "outputs": [],
   "source": [
    "# Étape 6: Création de nouvelles caractéristiques (exemple)\n",
    "if 'height' in df.columns and 'weight' in df.columns:\n",
    "    df['bmi'] = df['weight'] / (df['height'] / 100) ** 2\n",
    "    print(\"\\nNouvelle caractéristique 'bmi' créée\")"
   ]
  },
  {
   "cell_type": "code",
   "execution_count": null,
   "metadata": {},
   "outputs": [],
   "source": [
    "# Étape 7: Sélection des caractéristiques\n",
    "# Exemple: suppression de la colonne 'id' si elle existe\n",
    "if 'id' in df.columns:\n",
    "    df = df.drop(columns=['id'])\n",
    "    print(\"\\nColonne 'id' supprimée\")\n",
    "\n",
    "print(\"\\nNettoyage des données terminé!\")\n",
    "print(\"Dimensions finales du dataframe:\", df.shape)"
   ]
  },
  {
   "cell_type": "code",
   "execution_count": null,
   "metadata": {},
   "outputs": [],
   "source": [
    "# Sauvegarde du dataframe nettoyé (optionnel)\n",
    "df.to_csv('donnees_nettoyees.csv', index=False)\n",
    "print(\"\\nDonnées nettoyées sauvegardées dans 'donnees_nettoyees.csv'\")"
   ]
  }
 ],
 "metadata": {
  "kernelspec": {
   "display_name": "artefact",
   "language": "python",
   "name": "python3"
  },
  "language_info": {
   "codemirror_mode": {
    "name": "ipython",
    "version": 3
   },
   "file_extension": ".py",
   "mimetype": "text/x-python",
   "name": "python",
   "nbconvert_exporter": "python",
   "pygments_lexer": "ipython3",
   "version": "3.10.12"
  }
 },
 "nbformat": 4,
 "nbformat_minor": 2
}
