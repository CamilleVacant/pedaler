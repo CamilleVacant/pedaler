{
 "cells": [
  {
   "cell_type": "code",
   "execution_count": 13,
   "metadata": {},
   "outputs": [],
   "source": [
    "# pip install contextily"
   ]
  },
  {
   "cell_type": "code",
   "execution_count": null,
   "metadata": {},
   "outputs": [],
   "source": [
    "import geopandas as gpd\n",
    "\n",
    "gdf = gpd.read_file('metropole-de-lyon_pvo_patrimoine_voirie.pvoamenagementcyclable.geojson')\n",
    "gdf.head()\n",
    "# gdf[\"typeamenagement\"].unique()"
   ]
  },
  {
   "cell_type": "code",
   "execution_count": 15,
   "metadata": {},
   "outputs": [],
   "source": [
    "# gdf[\"insee1\"].unique()"
   ]
  },
  {
   "cell_type": "code",
   "execution_count": 16,
   "metadata": {},
   "outputs": [],
   "source": [
    "import geopandas as gpd\n",
    "import matplotlib.pyplot as plt\n",
    "import contextily as cx\n",
    "import pandas as pd\n",
    "\n",
    "# Charger le fichier GeoJSON des aménagements cyclables\n",
    "# GEOJSON\n",
    "gdf = gpd.read_file('metropole-de-lyon_pvo_patrimoine_voirie.pvoamenagementcyclable.geojson')\n",
    "\n",
    "# CSV\n",
    "# gdf = gpd.read_file('pistes_lyon_comnbined.csv')\n",
    "\n",
    "# Filtrer les données pour Paris en utilisant la colonne 'arrondissement'\n",
    "gdf_lyon = gdf[gdf['commune1'].notnull()]  # Filtrer pour Lyon\n",
    "# gdf_lyon = gdf_lyon[gdf_lyon['commune1'].str.contains('Lyon', case=False, na=False)]\n",
    "# codes_insee_lyon = ['69003', '69034', '69069', '69081', '69085', '69088', '69089', '69091', '69096']\n",
    "# gdf_lyon = gdf[gdf['insee1'].isin(codes_insee_lyon)]\n",
    "gdf_lyon = gdf_lyon[gdf_lyon['commune1'].str.startswith('Lyon', na=False)]\n",
    "gdf_lyon_cyclable = gdf_lyon\n",
    "# Filtrer uniquement les aménagements cyclables pertinents\n",
    "# aménagements_cyclables = [\n",
    "#     'Bande Cyclable', \n",
    "#     'Piste Cyclable', \n",
    "#     'voie verte', \n",
    "#     'double-sens cyclable simple', \n",
    "#     'couloir bus ouvert aux vélos'\n",
    "# ]\n",
    "\n",
    "# gdf_lyon_cyclable = gdf_lyon[gdf_lyon['amenagement'].isin(aménagements_cyclables)]"
   ]
  },
  {
   "cell_type": "markdown",
   "metadata": {},
   "source": [
    "### **VERIF DISTANCES**"
   ]
  },
  {
   "cell_type": "code",
   "execution_count": null,
   "metadata": {},
   "outputs": [],
   "source": [
    "# Reprojeter en EPSG:2154 pour un calcul de longueur précis en mètres\n",
    "gdf_lyon_cyclable = gdf_lyon_cyclable.to_crs(epsg=2154)\n",
    "gdf_lyon_cyclable_final = gdf_lyon_cyclable\n",
    "# Séparer les données selon la valeur de 'voie_a_sens_unique'\n",
    "# gdf_paris_cyclable_non_unique = gdf_lyon_cyclable[gdf_lyon_cyclable['voie_a_sens_unique'] == 'non']\n",
    "# gdf_paris_cyclable_unique = gdf_lyon_cyclable[gdf_lyon_cyclable['voie_a_sens_unique'] != 'non']\n",
    "\n",
    "# Pour les aménagements à double sens, conserver les lignes les plus récentes\n",
    "# gdf_paris_cyclable_non_unique = gdf_paris_cyclable_non_unique.sort_values(by='date_export', ascending=False)\n",
    "# gdf_paris_cyclable_non_unique = gdf_paris_cyclable_non_unique.drop_duplicates(subset=['osm_id', 'cote_amenagement'])\n",
    "\n",
    "# Pour les aménagements à sens unique, conserver uniquement la ligne la plus récente\n",
    "# gdf_paris_cyclable_unique = gdf_paris_cyclable_unique.sort_values(by='date_export', ascending=False)\n",
    "# gdf_paris_cyclable_unique = gdf_paris_cyclable_unique.drop_duplicates(subset=['osm_id'])\n",
    "\n",
    "# Combiner les deux DataFrames traités\n",
    "# gdf_paris_cyclable_final = pd.concat([gdf_paris_cyclable_non_unique, gdf_paris_cyclable_unique])\n",
    "\n",
    "# Calculer la longueur des aménagements cyclables (en kilomètres)\n",
    "gdf_lyon_cyclable_final['longueur'] = gdf_lyon_cyclable_final.geometry.length / 1000  # Conversion des mètres en kilomètres\n",
    "\n",
    "# Grouper par type d'aménagement et sommer les longueurs\n",
    "longueur_par_type = gdf_lyon_cyclable_final.groupby('typeamenagement')['longueur'].sum()\n",
    "\n",
    "# Afficher les longueurs par type d'aménagement en kilomètres\n",
    "print(\"Longueur par type d'aménagement cyclable à Paris (en km) :\")\n",
    "for typeamenagement, longueur in longueur_par_type.items():\n",
    "    print(f\"{typeamenagement}: {longueur:.2f} km\")\n",
    "\n",
    "# Calculer et afficher la longueur totale des aménagements cyclables (en km)\n",
    "total_length = longueur_par_type.sum()\n",
    "print(f\"\\nLongueur totale des aménagements cyclables à Lyon : {total_length:.2f} km\")"
   ]
  },
  {
   "cell_type": "markdown",
   "metadata": {},
   "source": [
    "### **LECTURE CARTE VIA GEOJSON**"
   ]
  },
  {
   "cell_type": "code",
   "execution_count": null,
   "metadata": {},
   "outputs": [],
   "source": [
    "# Reprojeter en EPSG:3857 pour la visualisation sur la carte\n",
    "gdf_lyon_web_mercator = gdf_lyon_cyclable_final.to_crs(epsg=3857)\n",
    "\n",
    "# Créer une figure et un axe pour la carte\n",
    "fig, ax = plt.subplots(figsize=(10, 8))\n",
    "\n",
    "# Tracer les aménagements cyclables\n",
    "gdf_lyon_web_mercator.plot(ax=ax, alpha=0.7, linewidth=1, column='typeamenagement', legend=True)\n",
    "\n",
    "# Ajouter le fond de carte\n",
    "cx.add_basemap(ax, source=cx.providers.CartoDB.Positron)\n",
    "\n",
    "# Titre et mise en page\n",
    "plt.title('Aménagements cyclables à Lyon', fontsize=16)\n",
    "plt.axis('off')\n",
    "\n",
    "# Récupérer les limites actuelles de la carte\n",
    "minx, miny, maxx, maxy = gdf_lyon_web_mercator.total_bounds\n",
    "\n",
    "# Facteur de zoom (plus grand que 1 pour zoomer)\n",
    "zoom_factor = 1  # Modifie cette valeur pour plus de zoom (1.2 signifie zoom arrière, 0.8 pour zoom avant)\n",
    "\n",
    "# Calculer les nouvelles limites avec le zoom\n",
    "x_range = maxx - minx\n",
    "y_range = maxy - miny\n",
    "\n",
    "new_minx = minx - (zoom_factor - 1) * x_range / 2\n",
    "new_maxx = maxx + (zoom_factor - 1) * x_range / 2\n",
    "new_miny = miny - (zoom_factor - 1) * y_range / 2\n",
    "new_maxy = maxy + (zoom_factor - 1) * y_range / 2\n",
    "\n",
    "# Ajuster les limites de la carte avec le zoom\n",
    "ax.set_xlim([new_minx, new_maxx])\n",
    "ax.set_ylim([new_miny, new_maxy])\n",
    "\n",
    "# Afficher la carte\n",
    "plt.tight_layout()\n",
    "plt.show()"
   ]
  },
  {
   "cell_type": "code",
   "execution_count": null,
   "metadata": {},
   "outputs": [],
   "source": [
    "gdf_lyon_cyclable['typeamenagement'].unique()"
   ]
  },
  {
   "cell_type": "code",
   "execution_count": null,
   "metadata": {},
   "outputs": [],
   "source": [
    "# gdf_paris_cyclable['osm_id'].value_counts().sort_values(ascending=False)\n",
    "\n",
    "# gdf_lyon_cyclable[gdf_lyon_cyclable['osm_id'] == 41486595]\n",
    "\n",
    "gdf_lyon_cyclable_final['longueur'].sum()\n",
    "# gdf_lyon_cyclable.shape"
   ]
  },
  {
   "cell_type": "markdown",
   "metadata": {},
   "source": [
    "### **SAVE FILE**"
   ]
  },
  {
   "cell_type": "code",
   "execution_count": 21,
   "metadata": {},
   "outputs": [],
   "source": [
    "# Sauvegarder les résultats pour Lyon dans un nouveau fichier GeoJSON\n",
    "# gdf_lyon_cyclable.to_file('data/paris_amenagements_cyclables.geojson', driver='GeoJSON')\n",
    "\n",
    "# Sauvegarder les résultats pour Lyon dans un nouveau fichier CSV\n",
    "gdf_lyon_cyclable_final.to_csv('data/lyon_pistes_cyclables.csv', index=False)"
   ]
  },
  {
   "cell_type": "code",
   "execution_count": null,
   "metadata": {},
   "outputs": [],
   "source": [
    "gdf_lyon_cyclable_final['anneelivraison'].isna().sum()"
   ]
  },
  {
   "cell_type": "code",
   "execution_count": null,
   "metadata": {},
   "outputs": [],
   "source": [
    "import geopandas as gpd\n",
    "import folium\n",
    "\n",
    "# Charger le fichier GeoJSON des aménagements cyclables\n",
    "gdf = gpd.read_file('metropole-de-lyon_pvo_patrimoine_voirie.pvoamenagementcyclable.geojson')\n",
    "\n",
    "# Filtrer les données pour Lyon\n",
    "gdf_lyon = gdf[gdf['commune1'].str.startswith('Lyon', na=False)]\n",
    "\n",
    "# Dictionnaire pour associer un type de piste à une couleur\n",
    "type_to_color = {\n",
    "    'Piste Cyclable': 'green',\n",
    "    'Bande Cyclable': 'blue',\n",
    "    'Couloir bus vélo non élargi': 'red',\n",
    "    'Couloir bus vélo élargi': 'darkred',\n",
    "    'Voie verte': 'orange',\n",
    "    'Double sens cyclable': 'purple',\n",
    "    'Chaussée à voie centrale banalisée (CVCB)': 'yellow',\n",
    "    'Goulotte ou rampe': 'brown',\n",
    "}\n",
    "\n",
    "# Créer une carte centrée sur Lyon\n",
    "m = folium.Map(location=[45.75, 4.85], zoom_start=13)\n",
    "\n",
    "# Ajouter un groupe de calques pour chaque type de piste\n",
    "for amenagement, color in type_to_color.items():\n",
    "    # Filtrer les données pour le type de piste\n",
    "    filtered_gdf = gdf_lyon[gdf_lyon['typeamenagement'] == amenagement]\n",
    "    \n",
    "    # Continuer seulement si le DataFrame filtré n'est pas vide\n",
    "    if not filtered_gdf.empty:\n",
    "        fg = folium.FeatureGroup(name=amenagement)\n",
    "        \n",
    "        folium.GeoJson(\n",
    "            filtered_gdf[['geometry', 'typeamenagement']].to_json(),\n",
    "            style_function=lambda feature, color=color: {'color': color, 'weight': 2, 'opacity': 0.6},\n",
    "            tooltip=folium.GeoJsonTooltip(fields=['typeamenagement'], aliases=['Type d\\'aménagement'])\n",
    "        ).add_to(fg)\n",
    "        \n",
    "        fg.add_to(m)\n",
    "\n",
    "# Ajouter une couche de contrôle pour activer/désactiver les pistes cyclables\n",
    "folium.LayerControl().add_to(m)\n",
    "\n",
    "# Sauvegarder la carte dans un fichier HTML\n",
    "m.save('lyon_pistes_cyclables_groupes.html')\n",
    "\n",
    "# Afficher la carte directement dans un notebook (si vous utilisez Jupyter)\n",
    "m\n"
   ]
  }
 ],
 "metadata": {
  "kernelspec": {
   "display_name": "artefact",
   "language": "python",
   "name": "python3"
  },
  "language_info": {
   "codemirror_mode": {
    "name": "ipython",
    "version": 3
   },
   "file_extension": ".py",
   "mimetype": "text/x-python",
   "name": "python",
   "nbconvert_exporter": "python",
   "pygments_lexer": "ipython3",
   "version": "3.10.12"
  }
 },
 "nbformat": 4,
 "nbformat_minor": 2
}
